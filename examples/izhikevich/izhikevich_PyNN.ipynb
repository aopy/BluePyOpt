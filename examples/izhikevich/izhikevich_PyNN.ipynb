{
 "cells": [
  {
   "cell_type": "markdown",
   "metadata": {},
   "source": [
    "# Creating a simple cell optimisation\n",
    "\n",
    "This notebook will explain how to set up an optimisation of simple Izhikevich cell with two free parameters that need to be optimised"
   ]
  },
  {
   "cell_type": "code",
   "execution_count": 1,
   "metadata": {
    "collapsed": true
   },
   "outputs": [],
   "source": [
    "%matplotlib inline\n",
    "import matplotlib.pyplot as plt\n",
    "import numpy as np\n",
    "from pprint import pprint as _print"
   ]
  },
  {
   "cell_type": "markdown",
   "metadata": {},
   "source": [
    "First we need to import the module that contains all the functionality to create electrical cell models"
   ]
  },
  {
   "cell_type": "code",
   "execution_count": 2,
   "metadata": {
    "collapsed": true
   },
   "outputs": [],
   "source": [
    "import bluepyopt as bpop\n",
    "import bluepyopt.ephys as ephys\n",
    "import bluepyopt.ephys_pyNN as epyn\n",
    "import deap.tools"
   ]
  },
  {
   "cell_type": "markdown",
   "metadata": {},
   "source": [
    "If you want to see a lot of information about the internals, \n",
    "the verbose level can be set to 'debug' by commenting out\n",
    "the following lines"
   ]
  },
  {
   "cell_type": "code",
   "execution_count": 3,
   "metadata": {
    "collapsed": true
   },
   "outputs": [],
   "source": [
    "# import logging\n",
    "# logger = logging.getLogger()\n",
    "# logger.setLevel(logging.DEBUG)"
   ]
  },
  {
   "cell_type": "markdown",
   "metadata": {},
   "source": [
    "Setting up a cell template\n",
    "-------------------------\n",
    "First a template that will describe the cell population has to be defined. A template consists of:\n",
    "* a PyNN cell type\n",
    "* model parameters\n",
    "\n",
    "We are going to use the PyNN `Izhikevich` cell type. We can see its parameters and their default values as follows:"
   ]
  },
  {
   "cell_type": "code",
   "execution_count": 4,
   "metadata": {},
   "outputs": [
    {
     "data": {
      "text/plain": [
       "{'a': 0.02, 'b': 0.2, 'c': -65.0, 'd': 2.0, 'i_offset': 0.0}"
      ]
     },
     "execution_count": 4,
     "metadata": {},
     "output_type": "execute_result"
    }
   ],
   "source": [
    "from pyNN.standardmodels.cells import Izhikevich\n",
    "\n",
    "Izhikevich.default_parameters"
   ]
  },
  {
   "cell_type": "markdown",
   "metadata": {
    "collapsed": true
   },
   "source": [
    "### Creating parameters\n",
    "\n",
    "A BluePyOpt parameter can be in two states: frozen and not-frozen. When a parameter is frozen it has an exact value, otherwise it only has some bounds but the exact value is not known yet.\n",
    "\n",
    "We are going to freeze `c`, `d` and `i_offset`; only `a` and `b` will be optimised."
   ]
  },
  {
   "cell_type": "code",
   "execution_count": 5,
   "metadata": {
    "collapsed": true
   },
   "outputs": [],
   "source": [
    "Parameter = bpop.parameters.ArrayParameter\n",
    "\n",
    "parameters = [\n",
    "    Parameter(name='a', bounds=[0.0, 1.0], frozen=False),\n",
    "    Parameter(name='b', bounds=[0.0, 1.0], frozen=False),\n",
    "    Parameter(name='c', value=-65.0, frozen=True),\n",
    "    Parameter(name='d', value=6.0, frozen=True)\n",
    "]"
   ]
  },
  {
   "cell_type": "markdown",
   "metadata": {
    "collapsed": true
   },
   "source": [
    "### Creating the template\n",
    "\n",
    "To create the population template, we pass all these objects to the constructor of the template"
   ]
  },
  {
   "cell_type": "code",
   "execution_count": 6,
   "metadata": {
    "collapsed": true
   },
   "outputs": [],
   "source": [
    "POP_SIZE = 100\n",
    "simple_population = epyn.models.PyNNPopulationModel(\n",
    "        name='simple_population',\n",
    "        size=POP_SIZE,\n",
    "        celltype='Izhikevich',\n",
    "        params=parameters,\n",
    "        initial_values={'v': -70.0, 'w': 0.0})  "
   ]
  },
  {
   "cell_type": "markdown",
   "metadata": {},
   "source": [
    "Now we can print out a description of the template"
   ]
  },
  {
   "cell_type": "code",
   "execution_count": 7,
   "metadata": {},
   "outputs": [
    {
     "name": "stdout",
     "output_type": "stream",
     "text": [
      "simple_population:\n",
      "  cell type:\n",
      "    Izhikevich\n",
      "  params:\n",
      "    a = [0.0, 1.0]\n",
      "    b = [0.0, 1.0]\n",
      "    c = -65.0\n",
      "    d = 6.0\n",
      "\n"
     ]
    }
   ],
   "source": [
    "print(simple_population)"
   ]
  },
  {
   "cell_type": "markdown",
   "metadata": {
    "collapsed": true
   },
   "source": [
    "With this template we can build a population evaluator."
   ]
  },
  {
   "cell_type": "markdown",
   "metadata": {
    "collapsed": true
   },
   "source": [
    "## Setting up a population evaluator\n",
    "\n",
    "To optimise the parameters of the cells we need to create an evaluator object. \n",
    "This object will need to know which protocols to inject, which parameters to optimise, etc."
   ]
  },
  {
   "cell_type": "markdown",
   "metadata": {},
   "source": [
    "### Obtaining our target data\n",
    "\n",
    "Since this is a demo, we are going to use the same model to produce the target data as we are fitting. We will then attempt to recover the correct parameters by fitting."
   ]
  },
  {
   "cell_type": "code",
   "execution_count": 8,
   "metadata": {},
   "outputs": [
    {
     "name": "stderr",
     "output_type": "stream",
     "text": [
      "/home/andrew/anaconda/envs/simulation/lib/python3.5/site-packages/pyNN/nest/__init__.py:55: UserWarning: Unable to install NEST extensions. Certain models may not be available.\n",
      "Further details: DynamicModuleManagementError in Install: Module 'pynn_extensions' could not be opened.\n",
      "The dynamic loader returned the following error: 'file not found'.\n",
      "\n",
      "Please check LD_LIBRARY_PATH (OSX: DYLD_LIBRARY_PATH)!\n",
      "  warnings.warn(\"Unable to install NEST extensions. Certain models may not be available.\\nFurther details: {}\".format(err))\n"
     ]
    },
    {
     "data": {
      "text/plain": [
       "[<matplotlib.lines.Line2D at 0x7f749e39a5f8>]"
      ]
     },
     "execution_count": 8,
     "metadata": {},
     "output_type": "execute_result"
    },
    {
     "data": {
      "image/png": "[encoded data removed]",
      "text/plain": [
       "<matplotlib.figure.Figure at 0x7f749e404dd8>"
      ]
     },
     "metadata": {},
     "output_type": "display_data"
    }
   ],
   "source": [
    "import pyNN.nest as sim\n",
    "\n",
    "sim.setup(timestep=0.01)\n",
    "cell_type = sim.Izhikevich(a=0.02, b=0.2, c=-65.0, d=6.0)\n",
    "neuron = sim.Population(1, cell_type, initial_values={'v': -70.0, 'w': -14.0})\n",
    "neuron.record('v')\n",
    "step_parameters = {'start': 100.0, 'stop': 200.0, 'amplitude': 0.014}\n",
    "injected_current = sim.DCSource(**step_parameters)\n",
    "injected_current.inject_into(neuron)\n",
    "\n",
    "sim.run(250.0)\n",
    "data = neuron.get_data().segments[0]\n",
    "vm = data.analogsignals[0]\n",
    "plt.plot(vm.times, vm)\n"
   ]
  },
  {
   "cell_type": "code",
   "execution_count": 9,
   "metadata": {},
   "outputs": [
    {
     "name": "stdout",
     "output_type": "stream",
     "text": [
      "Feature time_to_second_spike has the following values: 6.1\n",
      "Feature time_to_first_spike has the following values: 2.6\n",
      "Feature Spikecount has the following values: 6\n",
      "Feature time_to_last_spike has the following values: 99.5\n"
     ]
    }
   ],
   "source": [
    "import efel\n",
    "trace = {\n",
    "    'T': vm.times.magnitude,\n",
    "    'V': vm[:, 0].magnitude,\n",
    "    'stim_start': [step_parameters['start']],\n",
    "    'stim_end': [step_parameters['stop']]\n",
    "}\n",
    "trace_results = efel.getFeatureValues([trace],\n",
    "                                      ['time_to_first_spike',\n",
    "                                       'time_to_second_spike',\n",
    "                                       'time_to_last_spike',\n",
    "                                       'Spikecount'])\n",
    "                   \n",
    "feature_values = {}\n",
    "for name, value in trace_results[0].items():\n",
    "    feature_values[name] = value[0]\n",
    "    print(\"Feature %s has the following values: %s\" %\n",
    "          (name, ', '.join([str(x) for x in value])))"
   ]
  },
  {
   "cell_type": "code",
   "execution_count": 10,
   "metadata": {},
   "outputs": [
    {
     "data": {
      "text/plain": [
       "{'Spikecount': 6,\n",
       " 'time_to_first_spike': 2.5999999999984453,\n",
       " 'time_to_last_spike': 99.499999999992951,\n",
       " 'time_to_second_spike': 6.0999999999982464}"
      ]
     },
     "execution_count": 10,
     "metadata": {},
     "output_type": "execute_result"
    }
   ],
   "source": [
    "feature_values"
   ]
  },
  {
   "cell_type": "markdown",
   "metadata": {
    "collapsed": true
   },
   "source": [
    "### Creating the protocols\n",
    "\n",
    "A protocol consists of a set of stimuli, and a set of responses (i.e. recordings). These responses will later be used to calculate\n",
    "the score of the parameter values.\n",
    "Let's create a single protocols, matching the square current pulse used above."
   ]
  },
  {
   "cell_type": "code",
   "execution_count": 11,
   "metadata": {
    "collapsed": true
   },
   "outputs": [],
   "source": [
    "sweep_protocols = []\n",
    "for protocol_name, amplitude in [('step1', step_parameters['amplitude']),]:\n",
    "    stim = epyn.stimuli.PyNNSquarePulse(\n",
    "                step_amplitude=amplitude,\n",
    "                step_delay=step_parameters['start'],\n",
    "                step_duration=step_parameters['stop'] - step_parameters['start'],\n",
    "                total_duration=250.0)\n",
    "    rec = epyn.recordings.PyNNRecording(\n",
    "            name='%s.v' % protocol_name,\n",
    "            variable='v')\n",
    "    protocol = ephys.protocols.SweepProtocol(protocol_name, [stim], [rec])\n",
    "    sweep_protocols.append(protocol)\n",
    "single_step_protocol = ephys.protocols.SequenceProtocol('singlestep', protocols=sweep_protocols)"
   ]
  },
  {
   "cell_type": "markdown",
   "metadata": {
    "collapsed": true
   },
   "source": [
    "### Running a protocol on a population of cells\n",
    "\n",
    "Now we're at a stage where we can actually run a protocol on a population of cells. We first need to create a Simulator object."
   ]
  },
  {
   "cell_type": "code",
   "execution_count": 12,
   "metadata": {},
   "outputs": [],
   "source": [
    "simulator = epyn.simulators.PyNNSimulator('nest')"
   ]
  },
  {
   "cell_type": "markdown",
   "metadata": {},
   "source": [
    "The run() method of a protocol accepts a cell model, a set of parameter values and a simulator"
   ]
  },
  {
   "cell_type": "code",
   "execution_count": 13,
   "metadata": {},
   "outputs": [],
   "source": [
    "default_params = {\n",
    "    'a': np.random.uniform(0.001, 0.1, size=POP_SIZE),\n",
    "    'b': np.random.uniform(0.01, 1.0, size=POP_SIZE)\n",
    "}   \n",
    "responses = single_step_protocol.run(cell_model=simple_population, \n",
    "                                     param_values=default_params, \n",
    "                                     sim=simulator,\n",
    "                                     isolate=False)"
   ]
  },
  {
   "cell_type": "markdown",
   "metadata": {},
   "source": [
    "Plotting the response traces is now easy:"
   ]
  },
  {
   "cell_type": "code",
   "execution_count": 14,
   "metadata": {},
   "outputs": [
    {
     "data": {
      "image/png": "[encoded data removed]",
      "text/plain": [
       "<matplotlib.figure.Figure at 0x7f749c072710>"
      ]
     },
     "metadata": {},
     "output_type": "display_data"
    }
   ],
   "source": [
    "def plot_responses(responses, channels):\n",
    "    for channel in channels:\n",
    "        plt.plot(responses['step1.v'][channel]['time'], responses['step1.v'][channel]['voltage'], label='step1')\n",
    "    plt.legend()\n",
    "    plt.tight_layout()\n",
    "\n",
    "plot_responses(responses, [0, 3, 7, 8])"
   ]
  },
  {
   "cell_type": "markdown",
   "metadata": {
    "collapsed": true
   },
   "source": [
    "### Defining features and objectives\n",
    "\n",
    "For every response we need to define a set of features we will use for the fitness calculation later. We have to combine features together into objectives that will be used by the optimalisation algorithm. In this case we will create one objective per feature:"
   ]
  },
  {
   "cell_type": "code",
   "execution_count": 15,
   "metadata": {},
   "outputs": [
    {
     "name": "stdout",
     "output_type": "stream",
     "text": [
      "{'step1': {'time_to_second_spike': 6.0999999999982464, 'time_to_first_spike': 2.5999999999984453, 'time_to_last_spike': 99.499999999992951, 'Spikecount': 6}}\n"
     ]
    }
   ],
   "source": [
    "efel_feature_means = {'step1': feature_values}\n",
    "print(efel_feature_means)"
   ]
  },
  {
   "cell_type": "code",
   "execution_count": 16,
   "metadata": {
    "collapsed": true
   },
   "outputs": [],
   "source": [
    "objectives = []\n",
    "\n",
    "for protocol in sweep_protocols:\n",
    "    stim_start = protocol.stimuli[0].step_delay\n",
    "    stim_end = stim_start + protocol.stimuli[0].step_duration\n",
    "    for efel_feature_name, mean in efel_feature_means[protocol.name].items():\n",
    "        feature_name = '%s.%s' % (protocol.name, efel_feature_name)\n",
    "        feature = ephys.efeatures.eFELFeature(\n",
    "                    feature_name,\n",
    "                    efel_feature_name=efel_feature_name,\n",
    "                    recording_names={'': '%s.v' % protocol.name},\n",
    "                    stim_start=stim_start,\n",
    "                    stim_end=stim_end,\n",
    "                    exp_mean=mean,\n",
    "                    exp_std=0.2 * mean)\n",
    "        objective = ephys.objectives.SingletonObjective(feature_name, feature)\n",
    "        objectives.append(objective)"
   ]
  },
  {
   "cell_type": "markdown",
   "metadata": {},
   "source": [
    "We can now evaluate the features for the responses we obtained:"
   ]
  },
  {
   "cell_type": "code",
   "execution_count": 17,
   "metadata": {},
   "outputs": [
    {
     "name": "stdout",
     "output_type": "stream",
     "text": [
      "step1.time_to_second_spike\n",
      "[-89.500000000000028, -86.000000000000028, -83.700000000000045, None, -91.000000000000014, -88.000000000000028, -69.199999999999832, 6.9999999999981952, -89.500000000000028, -65.199999999999775, -89.100000000000023, 6.299999999998235, -56.299999999999649, 9.8999999999980304, 7.7999999999981497, 6.6999999999982123, -89.000000000000028, -69.199999999999832, -67.299999999999812, -75.89999999999992, -90.100000000000023, -57.899999999999672, -87.700000000000031, 10.399999999998002, -89.000000000000028, -77.899999999999949, -72.399999999999878, 11.999999999997911, -78.399999999999963, -62.499999999999737, -45.299999999999493, -91.700000000000017, -75.099999999999909, -59.399999999999693, -87.200000000000031, None, -87.500000000000028, -75.39999999999992, 7.3999999999981725, -79.399999999999977, 20.899999999997405, -81.400000000000006, -16.400000000000475, -35.999999999999361, -10.900000000000787, -84.700000000000045, -41.799999999999443, -82.200000000000017, -88.000000000000028, -73.599999999999895, -90.100000000000023, -85.80000000000004, 6.6999999999982123, -46.199999999999505, 5.7999999999982634, -38.599999999999397, 22.199999999997331, 6.299999999998235, -68.699999999999818, -92.000000000000014, 14.99999999999774, -91.500000000000014, -92.000000000000014, -89.000000000000028, -90.800000000000011, -72.499999999999886, -59.299999999999692, -92.300000000000011, -81.400000000000006, 5.4999999999982805, 1.1999999999985249, 2.8999999999984283, 6.599999999998218, -86.600000000000037, 8.3999999999981156, -76.999999999999943, -82.500000000000028, -83.200000000000031, -90.000000000000014, -82.100000000000023, 3.2999999999984055, None, 6.9999999999981952, -88.000000000000028, -58.699999999999683, -71.399999999999864, -36.499999999999368, -76.099999999999937, -91.100000000000023, -25.999999999999929, -60.999999999999716, -89.100000000000023, -64.299999999999756, 27.599999999997024, None, -79.199999999999974, -76.899999999999949, -60.199999999999704, -88.500000000000028, -54.199999999999619]\n",
      "step1.time_to_first_spike\n",
      "[-94.100000000000009, -92.600000000000009, -91.500000000000014, 5.3999999999982862, -94.799999999999997, -93.200000000000003, -86.000000000000028, 2.9999999999984226, -94.0, -84.30000000000004, -93.800000000000011, 2.6999999999984396, -81.099999999999994, 3.7999999999983771, 3.1999999999984112, 2.799999999998434, -93.600000000000009, -85.80000000000004, -85.500000000000028, -88.700000000000017, -94.100000000000009, -81.600000000000009, -93.000000000000014, 3.8999999999983714, -93.800000000000011, -89.000000000000028, -87.500000000000028, 4.1999999999983544, -89.300000000000026, -83.700000000000045, -76.899999999999949, -95.099999999999994, -88.500000000000028, -82.000000000000014, -93.000000000000014, None, -93.200000000000003, -88.500000000000028, 3.0999999999984169, -89.800000000000026, 5.6999999999982691, -90.300000000000011, -66.19999999999979, -73.199999999999889, -64.79999999999977, -91.700000000000017, -75.39999999999992, -91.000000000000014, -93.400000000000006, -87.700000000000031, -94.300000000000011, -92.400000000000006, 2.799999999998434, -76.899999999999949, 2.499999999998451, -73.499999999999886, 5.2999999999982919, 2.6999999999984396, -86.100000000000037, -95.299999999999997, 4.5999999999983316, -94.900000000000006, -95.299999999999997, -93.5, -94.600000000000009, -86.900000000000034, -82.40000000000002, -95.400000000000006, -90.800000000000011, 2.1999999999984681, -60.299999999999706, -34.299999999999457, 2.799999999998434, -92.600000000000009, 3.3999999999983999, -89.000000000000028, -90.700000000000017, -91.000000000000014, -94.100000000000009, -91.200000000000017, -24.899999999999991, None, 2.9999999999984226, -93.200000000000003, -82.000000000000014, -86.800000000000026, -73.799999999999898, -88.600000000000023, -94.799999999999997, -70.199999999999847, -82.900000000000034, -93.600000000000009, -83.900000000000034, 5.2999999999982919, None, -90.100000000000023, -88.700000000000017, -82.600000000000023, -93.400000000000006, -80.199999999999989]\n",
      "step1.time_to_last_spike\n",
      "[148.09999999999019, 146.89999999999026, 148.69999999999015, 5.3999999999982862, 147.29999999999023, 147.99999999999019, 144.59999999999039, 93.999999999993264, 146.89999999999026, 136.49999999999085, 149.09999999999013, 95.699999999993167, 138.19999999999075, 80.499999999994031, 89.999999999993491, 92.699999999993338, 147.39999999999023, 148.89999999999014, 143.89999999999043, 148.79999999999015, 149.5999999999901, 145.69999999999033, 149.09999999999013, 10.399999999998002, 149.29999999999012, 143.39999999999046, 136.69999999999084, 100.29999999999291, 144.3999999999904, 147.09999999999025, 147.49999999999022, 149.89999999999009, 145.49999999999034, 140.8999999999906, 146.29999999999029, 0.0, 145.19999999999035, 145.29999999999035, 94.999999999993207, 149.49999999999011, 95.29999999999319, 143.69999999999044, 91.299999999993418, 98.399999999993014, 80.499999999994031, 142.79999999999049, 143.89999999999043, 142.19999999999052, 144.89999999999037, 137.79999999999077, 149.19999999999013, 147.69999999999021, 95.29999999999319, 135.89999999999088, 84.199999999993821, 142.29999999999052, 98.199999999993025, 91.199999999993423, 144.69999999999038, 147.29999999999023, 91.199999999993423, 148.09999999999019, 149.19999999999013, 145.99999999999031, 147.19999999999024, 139.99999999999065, 129.69999999999123, 147.99999999999019, 142.99999999999048, 100.29999999999291, 96.499999999993122, 97.199999999993082, 100.19999999999291, 149.09999999999013, 99.69999999999294, 144.3999999999904, 144.09999999999042, 148.69999999999015, 149.6999999999901, 149.89999999999009, 47.699999999995896, 0.0, 95.99999999999315, 145.19999999999035, 132.79999999999106, 139.79999999999066, 85.899999999993724, 144.09999999999042, 148.09999999999019, 95.699999999993167, 131.59999999999113, 147.79999999999021, 138.49999999999073, 67.699999999994759, 0.0, 149.09999999999013, 146.79999999999026, 148.29999999999018, 146.0999999999903, 146.89999999999026]\n",
      "step1.Spikecount\n",
      "[63.0, 46.0, 38.0, 1.0, 74.0, 53.0, 21.0, 5.0, 61.0, 17.0, 59.0, 11.0, 15.0, 5.0, 9.0, 12.0, 57.0, 20.0, 24.0, 28.0, 66.0, 15.0, 51.0, 2.0, 58.0, 26.0, 26.0, 8.0, 28.0, 22.0, 14.0, 81.0, 27.0, 13.0, 50.0, 0.0, 51.0, 27.0, 8.0, 30.0, 6.0, 31.0, 9.0, 12.0, 7.0, 39.0, 15.0, 35.0, 53.0, 24.0, 66.0, 45.0, 12.0, 17.0, 6.0, 17.0, 5.0, 10.0, 25.0, 87.0, 6.0, 79.0, 84.0, 56.0, 72.0, 20.0, 18.0, 88.0, 35.0, 11.0, 7.0, 6.0, 10.0, 46.0, 10.0, 27.0, 33.0, 35.0, 66.0, 38.0, 4.0, 0.0, 8.0, 52.0, 20.0, 22.0, 9.0, 26.0, 75.0, 8.0, 17.0, 57.0, 16.0, 3.0, 0.0, 33.0, 26.0, 22.0, 55.0, 14.0]\n"
     ]
    }
   ],
   "source": [
    "for objective in objectives:\n",
    "    feature = objective.features[0]\n",
    "    print(feature.name)\n",
    "    print([feature.calculate_feature({'step1.v': responses['step1.v'][channel]})\n",
    "           for channel in range(POP_SIZE)])"
   ]
  },
  {
   "cell_type": "markdown",
   "metadata": {},
   "source": [
    "### Creating the population evaluator\n",
    "\n",
    "We will need an object that can use these objective definitions to calculate the scores from a protocol response. This is called a ScoreCalculator."
   ]
  },
  {
   "cell_type": "code",
   "execution_count": 18,
   "metadata": {
    "collapsed": true
   },
   "outputs": [],
   "source": [
    "score_calc = ephys.objectivescalculators.ObjectivesCalculator(objectives) "
   ]
  },
  {
   "cell_type": "markdown",
   "metadata": {},
   "source": [
    "Combining everything together we have a PopulationEvaluator. The PopulationEvaluator constructor has a field 'parameter_names' which contains the (ordered) list of names of the parameters that are used as input (and will be fitted later on)."
   ]
  },
  {
   "cell_type": "code",
   "execution_count": 19,
   "metadata": {},
   "outputs": [],
   "source": [
    "pop_evaluator = epyn.evaluators.PopulationEvaluator(\n",
    "        cell_model=simple_population,\n",
    "        param_names=['a', 'b'],\n",
    "        fitness_protocols={single_step_protocol.name: single_step_protocol},\n",
    "        fitness_calculator=score_calc,\n",
    "        isolate_protocols=False,\n",
    "        sim=simulator)"
   ]
  },
  {
   "cell_type": "markdown",
   "metadata": {},
   "source": [
    "### Evaluating the cells\n",
    "\n",
    "The population of cells can now be evaluated for a certain set of parameter values."
   ]
  },
  {
   "cell_type": "code",
   "execution_count": 20,
   "metadata": {},
   "outputs": [
    {
     "name": "stdout",
     "output_type": "stream",
     "text": [
      "[{'step1.Spikecount': 47.49999999999999,\n",
      "  'step1.time_to_first_spike': 185.96153846164668,\n",
      "  'step1.time_to_last_spike': 2.442211055276416,\n",
      "  'step1.time_to_second_spike': 78.36065573772602},\n",
      " {'step1.Spikecount': 33.33333333333333,\n",
      "  'step1.time_to_first_spike': 183.0769230770296,\n",
      "  'step1.time_to_last_spike': 2.3819095477387267,\n",
      "  'step1.time_to_second_spike': 75.4918032787088},\n",
      " {'step1.Spikecount': 26.666666666666664,\n",
      "  'step1.time_to_first_spike': 180.96153846164373,\n",
      "  'step1.time_to_last_spike': 2.4723618090452604,\n",
      "  'step1.time_to_second_spike': 73.60655737706894},\n",
      " {'step1.Spikecount': 4.166666666666666,\n",
      "  'step1.time_to_first_spike': 5.384615384618298,\n",
      "  'step1.time_to_last_spike': 4.728643216080469,\n",
      "  'step1.time_to_second_spike': 250.0},\n",
      " {'step1.Spikecount': 56.66666666666666,\n",
      "  'step1.time_to_first_spike': 187.30769230780132,\n",
      "  'step1.time_to_last_spike': 2.4020100502512896,\n",
      "  'step1.time_to_second_spike': 79.59016393444767},\n",
      " {'step1.Spikecount': 39.166666666666664,\n",
      "  'step1.time_to_first_spike': 184.2307692308764,\n",
      "  'step1.time_to_last_spike': 2.437185929648275,\n",
      "  'step1.time_to_second_spike': 77.13114754100437},\n",
      " {'step1.Spikecount': 12.499999999999998,\n",
      "  'step1.time_to_first_spike': 170.38461538471435,\n",
      "  'step1.time_to_last_spike': 2.266331658291489,\n",
      "  'step1.time_to_second_spike': 61.721311475426},\n",
      " {'step1.Spikecount': 0.8333333333333333,\n",
      "  'step1.time_to_first_spike': 0.7692307692311855,\n",
      "  'step1.time_to_last_spike': 0.27638190954774255,\n",
      "  'step1.time_to_second_spike': 0.737704918032957},\n",
      " {'step1.Spikecount': 45.83333333333333,\n",
      "  'step1.time_to_first_spike': 185.76923076933886,\n",
      "  'step1.time_to_last_spike': 2.3819095477387267,\n",
      "  'step1.time_to_second_spike': 78.36065573772602},\n",
      " {'step1.Spikecount': 9.166666666666666,\n",
      "  'step1.time_to_first_spike': 167.11538461548164,\n",
      "  'step1.time_to_last_spike': 1.8592964824120861,\n",
      "  'step1.time_to_second_spike': 58.442622950834846},\n",
      " {'step1.Spikecount': 44.16666666666666,\n",
      "  'step1.time_to_first_spike': 185.38461538472328,\n",
      "  'step1.time_to_last_spike': 2.4924623115578237,\n",
      "  'step1.time_to_second_spike': 78.03278688526692},\n",
      " {'step1.Spikecount': 4.166666666666666,\n",
      "  'step1.time_to_first_spike': 0.19230769230779637,\n",
      "  'step1.time_to_last_spike': 0.1909547738693494,\n",
      "  'step1.time_to_second_spike': 0.163934426229546},\n",
      " {'step1.Spikecount': 7.499999999999999,\n",
      "  'step1.time_to_first_spike': 160.9615384616317,\n",
      "  'step1.time_to_last_spike': 1.9447236180904794,\n",
      "  'step1.time_to_second_spike': 51.147540983619535},\n",
      " {'step1.Spikecount': 0.8333333333333333,\n",
      "  'step1.time_to_first_spike': 2.3076923076935567,\n",
      "  'step1.time_to_last_spike': 0.954773869346747,\n",
      "  'step1.time_to_second_spike': 3.1147540983613737},\n",
      " {'step1.Spikecount': 2.4999999999999996,\n",
      "  'step1.time_to_first_spike': 1.1538461538467784,\n",
      "  'step1.time_to_last_spike': 0.4773869346733735,\n",
      "  'step1.time_to_second_spike': 1.393442622951141},\n",
      " {'step1.Spikecount': 4.999999999999999,\n",
      "  'step1.time_to_first_spike': 0.38461538461559275,\n",
      "  'step1.time_to_last_spike': 0.3417085427135726,\n",
      "  'step1.time_to_second_spike': 0.491803278688638},\n",
      " {'step1.Spikecount': 42.49999999999999,\n",
      "  'step1.time_to_first_spike': 185.00000000010766,\n",
      "  'step1.time_to_last_spike': 2.4070351758794306,\n",
      "  'step1.time_to_second_spike': 77.95081967215214},\n",
      " {'step1.Spikecount': 11.666666666666664,\n",
      "  'step1.time_to_first_spike': 170.00000000009874,\n",
      "  'step1.time_to_last_spike': 2.482412060301542,\n",
      "  'step1.time_to_second_spike': 61.721311475426},\n",
      " {'step1.Spikecount': 14.999999999999998,\n",
      "  'step1.time_to_first_spike': 169.4230769231753,\n",
      "  'step1.time_to_last_spike': 2.2311557788945033,\n",
      "  'step1.time_to_second_spike': 60.163934426245206},\n",
      " {'step1.Spikecount': 18.333333333333332,\n",
      "  'step1.time_to_first_spike': 175.5769230770251,\n",
      "  'step1.time_to_last_spike': 2.4773869346734014,\n",
      "  'step1.time_to_second_spike': 67.21311475411618},\n",
      " {'step1.Spikecount': 49.99999999999999,\n",
      "  'step1.time_to_first_spike': 185.96153846164668,\n",
      "  'step1.time_to_last_spike': 2.5175879396985277,\n",
      "  'step1.time_to_second_spike': 78.85245901641468},\n",
      " {'step1.Spikecount': 7.499999999999999,\n",
      "  'step1.time_to_first_spike': 161.92307692317078,\n",
      "  'step1.time_to_last_spike': 2.3216080402010375,\n",
      "  'step1.time_to_second_spike': 52.459016393456},\n",
      " {'step1.Spikecount': 37.49999999999999,\n",
      "  'step1.time_to_first_spike': 183.84615384626082,\n",
      "  'step1.time_to_last_spike': 2.4924623115578237,\n",
      "  'step1.time_to_second_spike': 76.88524590166003},\n",
      " {'step1.Spikecount': 3.333333333333333,\n",
      "  'step1.time_to_first_spike': 2.5000000000013527,\n",
      "  'step1.time_to_last_spike': 4.47738693467343,\n",
      "  'step1.time_to_second_spike': 3.524590163935239},\n",
      " {'step1.Spikecount': 43.33333333333333,\n",
      "  'step1.time_to_first_spike': 185.38461538472328,\n",
      "  'step1.time_to_last_spike': 2.5025125628141054,\n",
      "  'step1.time_to_second_spike': 77.95081967215214},\n",
      " {'step1.Spikecount': 16.666666666666664,\n",
      "  'step1.time_to_first_spike': 176.15384615394856,\n",
      "  'step1.time_to_last_spike': 2.2060301507537994,\n",
      "  'step1.time_to_second_spike': 68.85245901641176},\n",
      " {'step1.Spikecount': 16.666666666666664,\n",
      "  'step1.time_to_first_spike': 173.26923076933144,\n",
      "  'step1.time_to_last_spike': 1.8693467336683678,\n",
      "  'step1.time_to_second_spike': 64.34426229509893},\n",
      " {'step1.Spikecount': 1.6666666666666665,\n",
      "  'step1.time_to_first_spike': 3.076923076924742,\n",
      "  'step1.time_to_last_spike': 0.04020100502512619,\n",
      "  'step1.time_to_second_spike': 4.836065573771607},\n",
      " {'step1.Spikecount': 18.333333333333332,\n",
      "  'step1.time_to_first_spike': 176.73076923087197,\n",
      "  'step1.time_to_last_spike': 2.2562814070352073,\n",
      "  'step1.time_to_second_spike': 69.26229508198566},\n",
      " {'step1.Spikecount': 13.333333333333332,\n",
      "  'step1.time_to_first_spike': 165.9615384616348,\n",
      "  'step1.time_to_last_spike': 2.3919597989950083,\n",
      "  'step1.time_to_second_spike': 56.229508196735814},\n",
      " {'step1.Spikecount': 6.666666666666666,\n",
      "  'step1.time_to_first_spike': 152.88461538470372,\n",
      "  'step1.time_to_last_spike': 2.4120603015075712,\n",
      "  'step1.time_to_second_spike': 42.131147540993865},\n",
      " {'step1.Spikecount': 62.49999999999999,\n",
      "  'step1.time_to_first_spike': 187.88461538472473,\n",
      "  'step1.time_to_last_spike': 2.53266331658295,\n",
      "  'step1.time_to_second_spike': 80.16393442625112},\n",
      " {'step1.Spikecount': 17.499999999999996,\n",
      "  'step1.time_to_first_spike': 175.1923076924095,\n",
      "  'step1.time_to_last_spike': 2.311557788944756,\n",
      "  'step1.time_to_second_spike': 66.55737704919794},\n",
      " {'step1.Spikecount': 5.833333333333332,\n",
      "  'step1.time_to_first_spike': 162.692307692402,\n",
      "  'step1.time_to_last_spike': 2.08040201005028,\n",
      "  'step1.time_to_second_spike': 53.68852459017768},\n",
      " {'step1.Spikecount': 36.666666666666664,\n",
      "  'step1.time_to_first_spike': 183.84615384626082,\n",
      "  'step1.time_to_last_spike': 2.351758793969882,\n",
      "  'step1.time_to_second_spike': 76.47540983608614},\n",
      " {'step1.Spikecount': 4.999999999999999,\n",
      "  'step1.time_to_first_spike': 250.0,\n",
      "  'step1.time_to_last_spike': 5.0,\n",
      "  'step1.time_to_second_spike': 250.0},\n",
      " {'step1.Spikecount': 37.49999999999999,\n",
      "  'step1.time_to_first_spike': 184.2307692308764,\n",
      "  'step1.time_to_last_spike': 2.2964824120603335,\n",
      "  'step1.time_to_second_spike': 76.72131147543047},\n",
      " {'step1.Spikecount': 17.499999999999996,\n",
      "  'step1.time_to_first_spike': 175.1923076924095,\n",
      "  'step1.time_to_last_spike': 2.301507537688474,\n",
      "  'step1.time_to_second_spike': 66.80327868854229},\n",
      " {'step1.Spikecount': 1.6666666666666665,\n",
      "  'step1.time_to_first_spike': 0.9615384615389819,\n",
      "  'step1.time_to_last_spike': 0.2261306532663348,\n",
      "  'step1.time_to_second_spike': 1.065573770492049},\n",
      " {'step1.Spikecount': 19.999999999999996,\n",
      "  'step1.time_to_first_spike': 177.69230769241102,\n",
      "  'step1.time_to_last_spike': 2.5125628140703866,\n",
      "  'step1.time_to_second_spike': 70.08196721313344},\n",
      " {'step1.Spikecount': 0.0,\n",
      "  'step1.time_to_first_spike': 5.9615384615416875,\n",
      "  'step1.time_to_last_spike': 0.2110552763819125,\n",
      "  'step1.time_to_second_spike': 12.131147540986403},\n",
      " {'step1.Spikecount': 20.83333333333333,\n",
      "  'step1.time_to_first_spike': 178.65384615395,\n",
      "  'step1.time_to_last_spike': 2.2211055276382217,\n",
      "  'step1.time_to_second_spike': 71.72131147542902},\n",
      " {'step1.Spikecount': 2.4999999999999996,\n",
      "  'step1.time_to_first_spike': 132.30769230776804,\n",
      "  'step1.time_to_last_spike': 0.4120603015075434,\n",
      "  'step1.time_to_second_spike': 18.442622950823925},\n",
      " {'step1.Spikecount': 4.999999999999999,\n",
      "  'step1.time_to_first_spike': 145.76923076931473,\n",
      "  'step1.time_to_last_spike': 0.055276381909548505,\n",
      "  'step1.time_to_second_spike': 34.50819672131943},\n",
      " {'step1.Spikecount': 0.8333333333333333,\n",
      "  'step1.time_to_first_spike': 129.61538461545868,\n",
      "  'step1.time_to_last_spike': 0.954773869346747,\n",
      "  'step1.time_to_second_spike': 13.93442622951141},\n",
      " {'step1.Spikecount': 27.499999999999996,\n",
      "  'step1.time_to_first_spike': 181.34615384625934,\n",
      "  'step1.time_to_last_spike': 2.175879396984955,\n",
      "  'step1.time_to_second_spike': 74.42622950821671},\n",
      " {'step1.Spikecount': 7.499999999999999,\n",
      "  'step1.time_to_first_spike': 150.00000000008654,\n",
      "  'step1.time_to_last_spike': 2.2311557788945033,\n",
      "  'step1.time_to_second_spike': 39.2622950819766},\n",
      " {'step1.Spikecount': 24.166666666666664,\n",
      "  'step1.time_to_first_spike': 180.00000000010468,\n",
      "  'step1.time_to_last_spike': 2.1457286432161102,\n",
      "  'step1.time_to_second_spike': 72.37704918034724},\n",
      " {'step1.Spikecount': 39.166666666666664,\n",
      "  'step1.time_to_first_spike': 184.61538461549205,\n",
      "  'step1.time_to_last_spike': 2.2814070351759113,\n",
      "  'step1.time_to_second_spike': 77.13114754100437},\n",
      " {'step1.Spikecount': 14.999999999999998,\n",
      "  'step1.time_to_first_spike': 173.65384615394706,\n",
      "  'step1.time_to_last_spike': 1.9246231155779163,\n",
      "  'step1.time_to_second_spike': 65.32786885247627},\n",
      " {'step1.Spikecount': 49.99999999999999,\n",
      "  'step1.time_to_first_spike': 186.34615384626233,\n",
      "  'step1.time_to_last_spike': 2.4974874371859643,\n",
      "  'step1.time_to_second_spike': 78.85245901641468},\n",
      " {'step1.Spikecount': 32.49999999999999,\n",
      "  'step1.time_to_first_spike': 182.69230769241395,\n",
      "  'step1.time_to_last_spike': 2.422110552763853,\n",
      "  'step1.time_to_second_spike': 75.32786885247926},\n",
      " {'step1.Spikecount': 4.999999999999999,\n",
      "  'step1.time_to_first_spike': 0.38461538461559275,\n",
      "  'step1.time_to_last_spike': 0.2110552763819125,\n",
      "  'step1.time_to_second_spike': 0.491803278688638},\n",
      " {'step1.Spikecount': 9.166666666666666,\n",
      "  'step1.time_to_first_spike': 152.88461538470372,\n",
      "  'step1.time_to_last_spike': 1.8291457286432415,\n",
      "  'step1.time_to_second_spike': 42.86885245902687},\n",
      " {'step1.Spikecount': 0.0,\n",
      "  'step1.time_to_first_spike': 0.19230769230779637,\n",
      "  'step1.time_to_last_spike': 0.7688442211055383,\n",
      "  'step1.time_to_second_spike': 0.245901639344319},\n",
      " {'step1.Spikecount': 9.166666666666666,\n",
      "  'step1.time_to_first_spike': 146.34615384623814,\n",
      "  'step1.time_to_last_spike': 2.150753768844251,\n",
      "  'step1.time_to_second_spike': 36.63934426230368},\n",
      " {'step1.Spikecount': 0.8333333333333333,\n",
      "  'step1.time_to_first_spike': 5.192307692310502,\n",
      "  'step1.time_to_last_spike': 0.06532663316583005,\n",
      "  'step1.time_to_second_spike': 13.196721311478452},\n",
      " {'step1.Spikecount': 3.333333333333333,\n",
      "  'step1.time_to_first_spike': 0.19230769230779637,\n",
      "  'step1.time_to_last_spike': 0.4170854271356842,\n",
      "  'step1.time_to_second_spike': 0.163934426229546},\n",
      " {'step1.Spikecount': 15.83333333333333,\n",
      "  'step1.time_to_first_spike': 170.57692307702217,\n",
      "  'step1.time_to_last_spike': 2.2713567839196296,\n",
      "  'step1.time_to_second_spike': 61.3114754098521},\n",
      " {'step1.Spikecount': 67.49999999999999,\n",
      "  'step1.time_to_first_spike': 188.26923076934037,\n",
      "  'step1.time_to_last_spike': 2.4020100502512896,\n",
      "  'step1.time_to_second_spike': 80.40983606559546},\n",
      " {'step1.Spikecount': 0.0,\n",
      "  'step1.time_to_first_spike': 3.8461538461559277,\n",
      "  'step1.time_to_last_spike': 0.4170854271356842,\n",
      "  'step1.time_to_second_spike': 7.295081967214797},\n",
      " {'step1.Spikecount': 60.83333333333332,\n",
      "  'step1.time_to_first_spike': 187.50000000010914,\n",
      "  'step1.time_to_last_spike': 2.442211055276416,\n",
      "  'step1.time_to_second_spike': 80.00000000002157},\n",
      " {'step1.Spikecount': 64.99999999999999,\n",
      "  'step1.time_to_first_spike': 188.26923076934037,\n",
      "  'step1.time_to_last_spike': 2.4974874371859643,\n",
      "  'step1.time_to_second_spike': 80.40983606559546},\n",
      " {'step1.Spikecount': 41.66666666666666,\n",
      "  'step1.time_to_first_spike': 184.80769230779984,\n",
      "  'step1.time_to_last_spike': 2.33668341708546,\n",
      "  'step1.time_to_second_spike': 77.95081967215214},\n",
      " {'step1.Spikecount': 54.99999999999999,\n",
      "  'step1.time_to_first_spike': 186.92307692318573,\n",
      "  'step1.time_to_last_spike': 2.396984924623149,\n",
      "  'step1.time_to_second_spike': 79.42622950821811},\n",
      " {'step1.Spikecount': 11.666666666666664,\n",
      "  'step1.time_to_first_spike': 172.1153846154846,\n",
      "  'step1.time_to_last_spike': 2.035175879397013,\n",
      "  'step1.time_to_second_spike': 64.42622950821371},\n",
      " {'step1.Spikecount': 9.999999999999998,\n",
      "  'step1.time_to_first_spike': 163.46153846163327,\n",
      "  'step1.time_to_last_spike': 1.5175879396985137,\n",
      "  'step1.time_to_second_spike': 53.60655737706289},\n",
      " {'step1.Spikecount': 68.33333333333333,\n",
      "  'step1.time_to_first_spike': 188.4615384616482,\n",
      "  'step1.time_to_last_spike': 2.437185929648275,\n",
      "  'step1.time_to_second_spike': 80.65573770493978},\n",
      " {'step1.Spikecount': 24.166666666666664,\n",
      "  'step1.time_to_first_spike': 179.61538461548906,\n",
      "  'step1.time_to_last_spike': 2.1859296482412365,\n",
      "  'step1.time_to_second_spike': 71.72131147542902},\n",
      " {'step1.Spikecount': 4.166666666666666,\n",
      "  'step1.time_to_first_spike': 0.7692307692311855,\n",
      "  'step1.time_to_last_spike': 0.04020100502512619,\n",
      "  'step1.time_to_second_spike': 0.491803278688638},\n",
      " {'step1.Spikecount': 0.8333333333333333,\n",
      "  'step1.time_to_first_spike': 120.96153846160723,\n",
      "  'step1.time_to_last_spike': 0.1507537688442232,\n",
      "  'step1.time_to_second_spike': 4.016393442623877},\n",
      " {'step1.Spikecount': 0.0,\n",
      "  'step1.time_to_first_spike': 70.96153846157686,\n",
      "  'step1.time_to_last_spike': 0.11557788944723779,\n",
      "  'step1.time_to_second_spike': 2.622950819672736},\n",
      " {'step1.Spikecount': 3.333333333333333,\n",
      "  'step1.time_to_first_spike': 0.38461538461559275,\n",
      "  'step1.time_to_last_spike': 0.03517587939698542,\n",
      "  'step1.time_to_second_spike': 0.409836065573865},\n",
      " {'step1.Spikecount': 33.33333333333333,\n",
      "  'step1.time_to_first_spike': 183.0769230770296,\n",
      "  'step1.time_to_last_spike': 2.4924623115578237,\n",
      "  'step1.time_to_second_spike': 75.98360655739748},\n",
      " {'step1.Spikecount': 3.333333333333333,\n",
      "  'step1.time_to_first_spike': 1.538461538462371,\n",
      "  'step1.time_to_last_spike': 0.010050251256281548,\n",
      "  'step1.time_to_second_spike': 1.885245901639779},\n",
      " {'step1.Spikecount': 17.499999999999996,\n",
      "  'step1.time_to_first_spike': 176.15384615394856,\n",
      "  'step1.time_to_last_spike': 2.2562814070352073,\n",
      "  'step1.time_to_second_spike': 68.11475409837875},\n",
      " {'step1.Spikecount': 22.499999999999996,\n",
      "  'step1.time_to_first_spike': 179.42307692318127,\n",
      "  'step1.time_to_last_spike': 2.241206030150785,\n",
      "  'step1.time_to_second_spike': 72.6229508196916},\n",
      " {'step1.Spikecount': 24.166666666666664,\n",
      "  'step1.time_to_first_spike': 180.00000000010468,\n",
      "  'step1.time_to_last_spike': 2.4723618090452604,\n",
      "  'step1.time_to_second_spike': 73.19672131149504},\n",
      " {'step1.Spikecount': 49.99999999999999,\n",
      "  'step1.time_to_first_spike': 185.96153846164668,\n",
      "  'step1.time_to_last_spike': 2.5226130653266683,\n",
      "  'step1.time_to_second_spike': 78.7704918032999},\n",
      " {'step1.Spikecount': 26.666666666666664,\n",
      "  'step1.time_to_first_spike': 180.3846153847203,\n",
      "  'step1.time_to_last_spike': 2.53266331658295,\n",
      "  'step1.time_to_second_spike': 72.29508196723248},\n",
      " {'step1.Spikecount': 1.6666666666666665,\n",
      "  'step1.time_to_first_spike': 52.884615384644,\n",
      "  'step1.time_to_last_spike': 2.603015075376921,\n",
      "  'step1.time_to_second_spike': 2.295081967213644},\n",
      " {'step1.Spikecount': 4.999999999999999,\n",
      "  'step1.time_to_first_spike': 250.0,\n",
      "  'step1.time_to_last_spike': 5.0,\n",
      "  'step1.time_to_second_spike': 250.0},\n",
      " {'step1.Spikecount': 1.6666666666666665,\n",
      "  'step1.time_to_first_spike': 0.7692307692311855,\n",
      "  'step1.time_to_last_spike': 0.17587939698492708,\n",
      "  'step1.time_to_second_spike': 0.737704918032957},\n",
      " {'step1.Spikecount': 38.33333333333333,\n",
      "  'step1.time_to_first_spike': 184.2307692308764,\n",
      "  'step1.time_to_last_spike': 2.2964824120603335,\n",
      "  'step1.time_to_second_spike': 77.13114754100437},\n",
      " {'step1.Spikecount': 11.666666666666664,\n",
      "  'step1.time_to_first_spike': 162.692307692402,\n",
      "  'step1.time_to_last_spike': 1.6733668341708776,\n",
      "  'step1.time_to_second_spike': 53.11475409837423},\n",
      " {'step1.Spikecount': 13.333333333333332,\n",
      "  'step1.time_to_first_spike': 171.92307692317678,\n",
      "  'step1.time_to_last_spike': 2.025125628140732,\n",
      "  'step1.time_to_second_spike': 63.52459016395113},\n",
      " {'step1.Spikecount': 2.4999999999999996,\n",
      "  'step1.time_to_first_spike': 146.9230769231616,\n",
      "  'step1.time_to_last_spike': 0.6834170854271452,\n",
      "  'step1.time_to_second_spike': 34.91803278689333},\n",
      " {'step1.Spikecount': 16.666666666666664,\n",
      "  'step1.time_to_first_spike': 175.3846153847173,\n",
      "  'step1.time_to_last_spike': 2.241206030150785,\n",
      "  'step1.time_to_second_spike': 67.37704918034575},\n",
      " {'step1.Spikecount': 57.49999999999999,\n",
      "  'step1.time_to_first_spike': 187.30769230780132,\n",
      "  'step1.time_to_last_spike': 2.442211055276416,\n",
      "  'step1.time_to_second_spike': 79.67213114756247},\n",
      " {'step1.Spikecount': 1.6666666666666665,\n",
      "  'step1.time_to_first_spike': 140.00000000008043,\n",
      "  'step1.time_to_last_spike': 0.1909547738693494,\n",
      "  'step1.time_to_second_spike': 26.31147540984213},\n",
      " {'step1.Spikecount': 9.166666666666666,\n",
      "  'step1.time_to_first_spike': 164.42307692317232,\n",
      "  'step1.time_to_last_spike': 1.6130653266331882,\n",
      "  'step1.time_to_second_spike': 55.00000000001414},\n",
      " {'step1.Spikecount': 42.49999999999999,\n",
      "  'step1.time_to_first_spike': 185.00000000010766,\n",
      "  'step1.time_to_last_spike': 2.4271356783919935,\n",
      "  'step1.time_to_second_spike': 78.03278688526692},\n",
      " {'step1.Spikecount': 8.333333333333332,\n",
      "  'step1.time_to_first_spike': 166.3461538462504,\n",
      "  'step1.time_to_last_spike': 1.9597989949749017,\n",
      "  'step1.time_to_second_spike': 57.704918032801835},\n",
      " {'step1.Spikecount': 2.4999999999999996,\n",
      "  'step1.time_to_first_spike': 5.192307692310502,\n",
      "  'step1.time_to_last_spike': 1.597989949748766,\n",
      "  'step1.time_to_second_spike': 17.622950819676195},\n",
      " {'step1.Spikecount': 4.999999999999999,\n",
      "  'step1.time_to_first_spike': 250.0,\n",
      "  'step1.time_to_last_spike': 5.0,\n",
      "  'step1.time_to_second_spike': 250.0},\n",
      " {'step1.Spikecount': 22.499999999999996,\n",
      "  'step1.time_to_first_spike': 178.26923076933443,\n",
      "  'step1.time_to_last_spike': 2.4924623115578237,\n",
      "  'step1.time_to_second_spike': 69.91803278690388},\n",
      " {'step1.Spikecount': 16.666666666666664,\n",
      "  'step1.time_to_first_spike': 175.5769230770251,\n",
      "  'step1.time_to_last_spike': 2.376884422110586,\n",
      "  'step1.time_to_second_spike': 68.03278688526397},\n",
      " {'step1.Spikecount': 13.333333333333332,\n",
      "  'step1.time_to_first_spike': 163.84615384624888,\n",
      "  'step1.time_to_last_spike': 2.4522613065326975,\n",
      "  'step1.time_to_second_spike': 54.34426229509591},\n",
      " {'step1.Spikecount': 40.83333333333333,\n",
      "  'step1.time_to_first_spike': 184.61538461549205,\n",
      "  'step1.time_to_last_spike': 2.3417085427136004,\n",
      "  'step1.time_to_second_spike': 77.54098360657825},\n",
      " {'step1.Spikecount': 6.666666666666666,\n",
      "  'step1.time_to_first_spike': 159.23076923086143,\n",
      "  'step1.time_to_last_spike': 2.3819095477387267,\n",
      "  'step1.time_to_second_spike': 49.426229508209175}]\n"
     ]
    }
   ],
   "source": [
    "_print(pop_evaluator.evaluate_with_dicts(default_params))"
   ]
  },
  {
   "cell_type": "markdown",
   "metadata": {
    "collapsed": true
   },
   "source": [
    "## Setting up and running an optimisation\n",
    "\n",
    "Now that we have a cell template and an evaluator for this cell, we can set up an optimisation."
   ]
  },
  {
   "cell_type": "code",
   "execution_count": 21,
   "metadata": {},
   "outputs": [],
   "source": [
    "optimisation = bpop.optimisations.DEAPOptimisation(\n",
    "                    evaluator=pop_evaluator,\n",
    "                    offspring_size=POP_SIZE,\n",
    "                    hof=deap.tools.HallOfFame(POP_SIZE),\n",
    "                    map_function=lambda evaluate, population: evaluate(population))"
   ]
  },
  {
   "cell_type": "markdown",
   "metadata": {},
   "source": [
    "And this optimisation can be run for a certain number of generations"
   ]
  },
  {
   "cell_type": "code",
   "execution_count": 22,
   "metadata": {},
   "outputs": [],
   "source": [
    "final_pop, hall_of_fame, logs, hist = optimisation.run(max_ngen=10)"
   ]
  },
  {
   "cell_type": "markdown",
   "metadata": {
    "collapsed": true
   },
   "source": [
    "The optimisation has returned us 4 objects: final population, hall of fame, statistical logs and history. \n",
    "\n",
    "The final population contains a list of tuples, with each tuple representing the two parameters of the model"
   ]
  },
  {
   "cell_type": "code",
   "execution_count": 23,
   "metadata": {},
   "outputs": [
    {
     "name": "stdout",
     "output_type": "stream",
     "text": [
      "Final population:  [[0.020004631722597532, 0.20306667008824203], [0.019811770686960058, 0.20462761491467002], [0.019449315025769243, 0.20470444073884525], [0.019449315025769243, 0.20470444073884525], [0.020004631722597532, 0.20409861198152376], [0.031631351301387445, 0.1883987917566379], [0.031631351301387445, 0.1883987917566379], [0.031899841213926916, 0.21998426419901213], [0.031899841213926916, 0.21998426419901213], [0.031899841213926916, 0.21998426419901213], [0.007846922224472863, 0.2637947781011488], [0.007846922224472863, 0.2637947781011488], [0.007846922224472863, 0.2637947781011488], [0.007846922224472863, 0.2637947781011488], [0.031899841213926916, 0.18717086421180543], [0.031899841213926916, 0.18717086421180543], [0.031899841213926916, 0.18717086421180543], [0.031899841213926916, 0.18717086421180543], [0.031899841213926916, 0.18717086421180543], [0.020004631722597532, 0.20470444073884525], [0.020004631722597532, 0.20470444073884525], [0.020004631722597532, 0.20470444073884525], [0.020004631722597532, 0.20470444073884525], [0.020004631722597532, 0.20470444073884525], [0.020004631722597532, 0.20470444073884525], [0.020004631722597532, 0.20470444073884525], [0.020004631722597532, 0.20470444073884525], [0.020004631722597532, 0.20470444073884525], [0.020004631722597532, 0.20470444073884525], [0.020004631722597532, 0.20470444073884525], [0.020004631722597532, 0.20470444073884525], [0.020004631722597532, 0.20470444073884525], [0.020004631722597532, 0.20470444073884525], [0.020004631722597532, 0.20470444073884525], [0.020004631722597532, 0.20470444073884525], [0.020004631722597532, 0.20470444073884525], [0.020004631722597532, 0.20470444073884525], [0.020004631722597532, 0.20470444073884525], [0.020004631722597532, 0.20470444073884525], [0.020004631722597532, 0.20470444073884525], [0.020004631722597532, 0.20470444073884525], [0.020004631722597532, 0.20470444073884525], [0.020004631722597532, 0.20470444073884525], [0.020004631722597532, 0.20470444073884525], [0.020004631722597532, 0.20470444073884525], [0.020004631722597532, 0.20470444073884525], [0.020004631722597532, 0.20470444073884525], [0.020004631722597532, 0.20470444073884525], [0.020004631722597532, 0.20470444073884525], [0.020004631722597532, 0.20470444073884525], [0.020004631722597532, 0.20470444073884525], [0.020004631722597532, 0.20470444073884525], [0.020004631722597532, 0.20470444073884525], [0.020004631722597532, 0.20470444073884525], [0.020004631722597532, 0.20470444073884525], [0.020004631722597532, 0.20470444073884525], [0.020004631722597532, 0.20470444073884525], [0.020004631722597532, 0.20470444073884525], [0.020004631722597532, 0.20470444073884525], [0.020004631722597532, 0.20470444073884525], [0.020004631722597532, 0.20470444073884525], [0.020004631722597532, 0.20470444073884525], [0.020004631722597532, 0.20470444073884525], [0.020004631722597532, 0.20470444073884525], [0.020004631722597532, 0.20470444073884525], [0.02009105605259969, 0.20470444073884525], [0.2285324227487293, 0.06951537853084733], [0.2285324227487293, 0.06951537853084733], [0.2285324227487293, 0.06951537853084733], [0.0033432722518622372, 0.2834044705975787], [0.0033432722518622372, 0.2834044705975787], [0.032451352039910786, 0.2170966308334788], [0.031899841213926916, 0.1248189380880963], [0.031899841213926916, 0.1248189380880963], [0.031899841213926916, 0.1248189380880963], [0.031899841213926916, 0.1248189380880963], [0.031899841213926916, 0.1248189380880963], [0.03181341690832549, 0.1248189380880963], [0.009866537928437905, 0.23031099675706887], [0.009866537928437905, 0.23031099675706887], [0.009866537928437905, 0.23031099675706887], [0.009866537928437905, 0.23031099675706887], [0.009866537928437905, 0.23031099675706887], [0.031899841213926916, 0.18957915741426234], [0.031899841213926916, 0.18957915741426234], [0.031899841213926916, 0.18957915741426234], [0.031899841213926916, 0.18957915741426234], [0.031899841213926916, 0.18957915741426234], [0.031899841213926916, 0.18957915741426234], [0.08332034764125182, 0.09503464453060959], [0.1739584159816941, 0.23154792506999172], [0.020968805925687856, 0.20470444073884525], [0.2668369341223308, 0.05654002597408957], [0.2668369341223308, 0.05654002597408957], [0.2668369341223308, 0.05654002597408957], [0.2668369341223308, 0.05654002597408957], [0.2668369341223308, 0.05654002597408957], [0.03190566895106963, 0.22169166627303505], [0.031905392653092224, 0.22169166627303505], [0.031899841213926916, 0.22169166627303505], [0.03190559193540824, 0.22169166627303505], [0.031899841213926916, 0.22169166627303505], [0.10985379173135718, 0.19018498617158383], [0.031899841213926916, 0.1634735738031156], [0.031899841213926916, 0.1634735738031156], [0.031899841213926916, 0.1634735738031156], [0.031899841213926916, 0.1634735738031156], [0.25280002855983763, 0.059269336450963245], [0.08332034764125182, 0.18341987925707826], [0.09979066804801495, 0.13157587190383072], [0.020070069656334545, 0.2215093469729816], [0.03189991822958831, 0.16565739806275137], [0.019715237154134813, 0.2224626983835078], [0.031899841213926916, 0.16661712592017308], [0.03054363376256973, 0.190884826954385], [0.025922236001679477, 0.19122936866029358], [0.039655937991774165, 0.14782710913410102], [0.039655937991774165, 0.14782710913410102], [0.06973565217377481, 0.20430122618314014], [0.42458117566170694, 0.23925225362021907], [0.5478700652563255, 0.06783462583975824], [0.031899841213926916, 0.2177212793079008], [0.009866537928437905, 0.33469381727389164], [0.05746300027748673, 0.135974916390315], [0.020004631722597532, 0.2535757766873304], [0.014316700746436345, 0.1967573731673563], [0.034525830151341586, 0.17741099435311264], [0.1234105334248023, 0.08831744584571283], [0.09794477443081302, 0.18692535849655184], [0.08631069030964339, 0.21998426419901213], [0.0033432722518622372, 0.2808144464070594], [0.031899841213926916, 0.20348426186454205], [0.009146925558266739, 0.25485595922919485], [0.031899841213926916, 0.23055650247234047], [0.031899841213926916, 0.23024329457298168], [0.1167030653019529, 0.20470444073884525], [0.06973565217377481, 0.21007954830152614], [0.03462224371915636, 0.22267454836104095], [0.0395283409812258, 0.1764281122651801], [0.016772062753350137, 0.20470444073884525], [0.06731361365038023, 0.190884826954385], [0.1276498914792372, 0.20394639635990316], [0.12529341603386074, 0.20470444073884525], [0.05838735113085386, 0.13721060332235285], [0.16328135720713916, 0.21998426419901213], [0.020004631722597532, 0.19527002777485997], [0.05288953229479393, 0.20689982696211118], [0.14448328750711847, 0.23247237156103412], [0.2415770034356588, 0.16661712592017308], [0.1454131427322926, 0.20470444073884525], [0.07132372281989635, 0.18854548213055872], [0.031851077440240814, 0.24585230102690211], [0.1033942936113573, 0.2560456445146342], [0.06538658699495775, 0.20470444073884525], [0.11736782791786188, 0.12051055692823015], [0.008925901618558829, 0.20470444073884525], [0.032092702296628355, 0.13069140009131558], [0.03113231570494937, 0.13400560838731312], [0.0053099164227603576, 0.2637947781011488], [0.010836292397338354, 0.20470444073884525], [0.018748040814314748, 0.2667172078103214], [0.002689425056094763, 0.24407314221862864], [0.002528554766750457, 0.20470444073884525], [0.002633873425174682, 0.20470444073884525], [0.0024355449946495515, 0.2834044705975787], [0.0191197970377857, 0.12655490858412755], [0.0169238844105995, 0.2802714108279462], [0.020004631722597532, 0.12489217653492407], [0.01685047071502775, 0.16218128307712462], [0.020004631722597532, 0.1586242446190464], [0.03245335508202836, 0.26452817576014503], [0.031899841213926916, 0.26653921153297544], [0.020004631722597532, 0.14372295841958663], [0.09615095218944664, 0.11476895997410441], [0.002780483941829892, 0.12845753969285562], [0.002757401859494288, 0.059532373908490685], [0.26511147311742556, 0.05654002597408957], [0.009866537928437905, 0.389655522653203], [0.04054078271367288, 0.09305933886912557], [0.25280002855983763, 0.10341781692059362], [0.01132494518405841, 0.41547190643146975], [0.031899841213926916, 0.09348730989509346], [0.012905851621888786, 0.05927614703488303], [0.07421497028830709, 0.05049593696179479], [0.2668369341223308, 0.047765116286017206], [0.020004631722597532, 0.05575006733695037], [0.022504535413266608, 0.05396116627377677], [0.07673551748561006, 0.05654002597408957], [0.020004631722597532, 0.312898890712272], [0.10530060865519769, 0.053698708384390614], [0.014704685913769555, 0.030220223163521825], [0.26312100692113355, 0.04139152246158706], [0.03847999043795508, 0.05654002597408957], [0.2278467036722853, 0.0010611372789826323], [0.02183113899187289, 0.41572891413009705], [0.11156407375483225, 0.2808144464070594], [0.09110170402714618, 0.32057957239412255], [0.06546557145943219, 0.4113218064020897], [0.24701703202165023, 0.3753657791161895], [0.12922866948813838, 0.5624312867736909]]\n"
     ]
    }
   ],
   "source": [
    "print('Final population: ', final_pop)"
   ]
  },
  {
   "cell_type": "markdown",
   "metadata": {},
   "source": [
    "The best individual found during the optimisation is the first individual of the hall of fame"
   ]
  },
  {
   "cell_type": "code",
   "execution_count": 24,
   "metadata": {},
   "outputs": [
    {
     "name": "stdout",
     "output_type": "stream",
     "text": [
      "Best five individuals:  [[0.019009429835374226, 0.21953585794686914], [0.019988989791429303, 0.2218745673701669], [0.020070069656334545, 0.2215093469729816], [0.020004631722597532, 0.20306667008824203], [0.019811770686960058, 0.20462761491467002]]\n",
      "Fitness values:  [(0.081967213114773, 0.0, 0.0, 0.3366834170854318), (0.081967213114773, 0.0, 0.0, 0.5577889447236258), (0.081967213114773, 0.0, 0.0, 0.5678391959799074), (0.327868852459092, 0.38461538461559275, 0.0, 0.01507537688442232), (0.327868852459092, 0.38461538461559275, 0.0, 0.03015075376884464)]\n"
     ]
    }
   ],
   "source": [
    "best_ind = hall_of_fame[0:POP_SIZE]\n",
    "print('Best five individuals: ', best_ind[:5])\n",
    "print('Fitness values: ', [ind.fitness.values for ind in best_ind[:5]])"
   ]
  },
  {
   "cell_type": "code",
   "execution_count": 25,
   "metadata": {},
   "outputs": [
    {
     "data": {
      "text/plain": [
       "100"
      ]
     },
     "execution_count": 25,
     "metadata": {},
     "output_type": "execute_result"
    }
   ],
   "source": [
    "len(hall_of_fame)"
   ]
  },
  {
   "cell_type": "markdown",
   "metadata": {},
   "source": [
    "We can evaluate the best individuals and make use of a convenience function of the cell evaluator to return us a dict of the parameters"
   ]
  },
  {
   "cell_type": "code",
   "execution_count": 26,
   "metadata": {},
   "outputs": [
    {
     "name": "stdout",
     "output_type": "stream",
     "text": [
      "{'a': array([ 0.01900943,  0.01998899,  0.02007007,  0.02000463,  0.01981177,\n",
      "        0.01944932,  0.02000463,  0.02000463,  0.02009106,  0.01971524,\n",
      "        0.02175361,  0.01055908,  0.02096881,  0.02007007,  0.02272502,\n",
      "        0.02575418,  0.01151713,  0.02654263,  0.02314702,  0.01268091,\n",
      "        0.00986654,  0.00986654,  0.0120894 ,  0.01901955,  0.01301339,\n",
      "        0.0265953 ,  0.03189984,  0.02685972,  0.03214296,  0.02130683,\n",
      "        0.03245135,  0.03189984,  0.03212206,  0.03189984,  0.03189984,\n",
      "        0.03189984,  0.03452583,  0.03222543,  0.02904079,  0.03452583,\n",
      "        0.03189984,  0.01744684,  0.03448111,  0.03186445,  0.03189984,\n",
      "        0.03189984,  0.02592224,  0.00513683,  0.03189984,  0.0347756 ,\n",
      "        0.031221  ,  0.03189984,  0.03190559,  0.03190567,  0.03190539,\n",
      "        0.03189984,  0.03189984,  0.0143167 ,  0.01683858,  0.03247905,\n",
      "        0.03247905,  0.03289504,  0.03189984,  0.01644471,  0.0326648 ,\n",
      "        0.03189984,  0.03189984,  0.03452583,  0.0059688 ,  0.03452583,\n",
      "        0.03452583,  0.02797498,  0.02797498,  0.02797498,  0.00784692,\n",
      "        0.03506433,  0.02000463,  0.03452583,  0.03462224,  0.03163135,\n",
      "        0.03189984,  0.03518431,  0.03058719,  0.0054654 ,  0.03054363,\n",
      "        0.00593787,  0.03444064,  0.03063665,  0.03189984,  0.00334327,\n",
      "        0.01677206,  0.04052387,  0.01470147,  0.04052387,  0.00914693,\n",
      "        0.03132161,  0.03189984,  0.03189984,  0.02209449,  0.00334327]), 'b': array([ 0.21953586,  0.22187457,  0.22150935,  0.20306667,  0.20462761,\n",
      "        0.20470444,  0.20409861,  0.20470444,  0.20470444,  0.2224627 ,\n",
      "        0.22196825,  0.22364659,  0.20470444,  0.2246529 ,  0.22169167,\n",
      "        0.2192178 ,  0.21998426,  0.22060339,  0.22261226,  0.21691075,\n",
      "        0.230311  ,  0.2299327 ,  0.22122328,  0.23228975,  0.20010868,\n",
      "        0.22169167,  0.21520502,  0.22169167,  0.21518061,  0.23086654,\n",
      "        0.21709663,  0.21921362,  0.21785847,  0.21986414,  0.21998426,\n",
      "        0.21772128,  0.21410931,  0.2213304 ,  0.22169167,  0.2168352 ,\n",
      "        0.21215379,  0.24208387,  0.2192178 ,  0.20123407,  0.20348426,\n",
      "        0.20311865,  0.19122937,  0.23086654,  0.20399134,  0.20622864,\n",
      "        0.22169167,  0.20599986,  0.22169167,  0.22169167,  0.22169167,\n",
      "        0.22169167,  0.22199721,  0.19675737,  0.21582811,  0.22171167,\n",
      "        0.22169167,  0.20515285,  0.19205302,  0.20681198,  0.22169167,\n",
      "        0.19493761,  0.19481749,  0.20250517,  0.2131151 ,  0.20346879,\n",
      "        0.20123407,  0.23047077,  0.22960503,  0.23134474,  0.26379478,\n",
      "        0.20123407,  0.24269652,  0.2218116 ,  0.22267455,  0.18839879,\n",
      "        0.18957916,  0.22247026,  0.1848251 ,  0.2360836 ,  0.19088483,\n",
      "        0.22169167,  0.19481749,  0.18670733,  0.18717086,  0.28340447,\n",
      "        0.20470444,  0.20626984,  0.22909396,  0.20652502,  0.25485596,\n",
      "        0.23086654,  0.23024329,  0.2305565 ,  0.24867189,  0.28081445])}\n"
     ]
    }
   ],
   "source": [
    "best_ind_dict = pop_evaluator.param_dict(best_ind)\n",
    "print(best_ind_dict)"
   ]
  },
  {
   "cell_type": "markdown",
   "metadata": {},
   "source": [
    "As you can see the evaluation returns the same values as the fitness values provided by the optimisation output. \n",
    "We can have a look at the responses now."
   ]
  },
  {
   "cell_type": "code",
   "execution_count": 27,
   "metadata": {},
   "outputs": [
    {
     "data": {
      "image/png": "[encoded data removed]",
      "text/plain": [
       "<matplotlib.figure.Figure at 0x7f749385e908>"
      ]
     },
     "metadata": {},
     "output_type": "display_data"
    }
   ],
   "source": [
    "plot_responses(single_step_protocol.run(cell_model=simple_population,\n",
    "                                        param_values=best_ind_dict,\n",
    "                                        sim=simulator,\n",
    "                                        isolate=False),\n",
    "              [0, 1, 2, POP_SIZE-1])"
   ]
  },
  {
   "cell_type": "markdown",
   "metadata": {},
   "source": [
    "We can see that the first three best individuals in the hall of fame are very close to the target, and even the 100th best individual is closer to the target than the members of the original population."
   ]
  },
  {
   "cell_type": "markdown",
   "metadata": {},
   "source": [
    "Let's have a look at the optimisation statistics.\n",
    "We can plot the minimal score (sum of all objective scores) found in every optimisation. \n",
    "The optimisation algorithm uses negative fitness scores, so we actually have to look at the maximum values log."
   ]
  },
  {
   "cell_type": "code",
   "execution_count": 28,
   "metadata": {},
   "outputs": [
    {
     "data": {
      "text/plain": [
       "(0.37678556718018436, 1.9994877709270997)"
      ]
     },
     "execution_count": 28,
     "metadata": {},
     "output_type": "execute_result"
    },
    {
     "data": {
      "image/png": "[encoded data removed]",
      "text/plain": [
       "<matplotlib.figure.Figure at 0x7f7493892470>"
      ]
     },
     "metadata": {},
     "output_type": "display_data"
    }
   ],
   "source": [
    "import numpy\n",
    "gen_numbers = logs.select('gen')\n",
    "min_fitness = logs.select('min')\n",
    "max_fitness = logs.select('max')\n",
    "plt.plot(gen_numbers, min_fitness, label='min fitness')\n",
    "plt.xlabel('generation #')\n",
    "plt.ylabel('score (# std)')\n",
    "plt.legend()\n",
    "plt.xlim(min(gen_numbers) - 1, max(gen_numbers) + 1) \n",
    "plt.ylim(0.9*min(min_fitness), 1.1 * max(min_fitness)) "
   ]
  },
  {
   "cell_type": "code",
   "execution_count": null,
   "metadata": {
    "collapsed": true
   },
   "outputs": [],
   "source": []
  }
 ],
 "metadata": {
  "kernelspec": {
   "display_name": "Python 3",
   "language": "python",
   "name": "python3"
  },
  "language_info": {
   "codemirror_mode": {
    "name": "ipython",
    "version": 3
   },
   "file_extension": ".py",
   "mimetype": "text/x-python",
   "name": "python",
   "nbconvert_exporter": "python",
   "pygments_lexer": "ipython3",
   "version": "3.5.2"
  }
 },
 "nbformat": 4,
 "nbformat_minor": 1
}
